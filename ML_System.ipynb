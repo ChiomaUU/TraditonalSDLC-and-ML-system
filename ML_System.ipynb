{
  "nbformat": 4,
  "nbformat_minor": 0,
  "metadata": {
    "colab": {
      "provenance": [],
      "authorship_tag": "ABX9TyM7sgO3jAtJ3C3RtlPDrjV/",
      "include_colab_link": true
    },
    "kernelspec": {
      "name": "python3",
      "display_name": "Python 3"
    },
    "language_info": {
      "name": "python"
    }
  },
  "cells": [
    {
      "cell_type": "markdown",
      "metadata": {
        "id": "view-in-github",
        "colab_type": "text"
      },
      "source": [
        "<a href=\"https://colab.research.google.com/github/ChiomaUU/TraditonalSDLC-and-ML-system/blob/main/ML_System.ipynb\" target=\"_parent\"><img src=\"https://colab.research.google.com/assets/colab-badge.svg\" alt=\"Open In Colab\"/></a>"
      ]
    },
    {
      "cell_type": "markdown",
      "source": [
        "Writing a pseudocode for the Book Recommendation System"
      ],
      "metadata": {
        "id": "CPiULvDeylzp"
      }
    },
    {
      "cell_type": "code",
      "execution_count": null,
      "metadata": {
        "id": "1ubC4oFIyhMK"
      },
      "outputs": [],
      "source": []
    },
    {
      "cell_type": "markdown",
      "source": [
        "Test Cases for the Book Recommendation System"
      ],
      "metadata": {
        "id": "WSr8OTmAyxYP"
      }
    },
    {
      "cell_type": "code",
      "source": [],
      "metadata": {
        "id": "WeP_BzQgy258"
      },
      "execution_count": null,
      "outputs": []
    }
  ]
}